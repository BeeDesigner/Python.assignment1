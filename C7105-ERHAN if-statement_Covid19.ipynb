{
 "cells": [
  {
   "cell_type": "code",
   "execution_count": 11,
   "metadata": {},
   "outputs": [
    {
     "name": "stdout",
     "output_type": "stream",
     "text": [
      "Enter your name please:ERHAN\n",
      "Hello Erhan ! The password is: GodOne\n"
     ]
    }
   ],
   "source": [
    "password = \"GodOne\"\n",
    "my_name = \"Erhan\"\n",
    "enter_name = (input(\"Enter your name please:\"))\n",
    "if enter_name.title() == my_name:\n",
    "    print(\"Hello\", my_name,\"! The password is:\", password)\n",
    "else:\n",
    "    print(\"Hello\", enter_name.title(),\"! See you later.\")"
   ]
  },
  {
   "cell_type": "code",
   "execution_count": 20,
   "metadata": {},
   "outputs": [
    {
     "name": "stdout",
     "output_type": "stream",
     "text": [
      "Are you a cigarette addict older than 75 years old? Yes or No: yes\n",
      "Do you have a severe chronic disease? Yes or No: no\n",
      "Is your immune system too weak? Yes or No: no\n",
      "Not Risky\n"
     ]
    }
   ],
   "source": [
    "\n",
    "Is your immune system too weak?\n"
   ]
  },
  {
   "cell_type": "code",
   "execution_count": null,
   "metadata": {},
   "outputs": [],
   "source": []
  }
 ],
 "metadata": {
  "kernelspec": {
   "display_name": "Python 3",
   "language": "python",
   "name": "python3"
  },
  "language_info": {
   "codemirror_mode": {
    "name": "ipython",
    "version": 3
   },
   "file_extension": ".py",
   "mimetype": "text/x-python",
   "name": "python",
   "nbconvert_exporter": "python",
   "pygments_lexer": "ipython3",
   "version": "3.8.5"
  }
 },
 "nbformat": 4,
 "nbformat_minor": 4
}
