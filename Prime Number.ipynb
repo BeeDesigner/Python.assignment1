{
 "cells": [
  {
   "cell_type": "code",
   "execution_count": 22,
   "metadata": {},
   "outputs": [
    {
     "name": "stdout",
     "output_type": "stream",
     "text": [
      "Enter a number: 97\n",
      "97  is a prime number\n"
     ]
    }
   ],
   "source": [
    "num = input(\"Enter a number: \")\n",
    "\n",
    "if not num.isdigit():\n",
    "    print(\"Enter a positive integer number\")\n",
    "    \n",
    "elif int(num) != 0:\n",
    "    if (int(num) != 2) and (int(num) != 3) and (int(num) != 5) and (int(num) != 7):\n",
    "        if (int(num) % 2 == 0) or (int(num) % 3 == 0) or (int(num) % 5 == 0) or (int(num) % 7 == 0):\n",
    "            print(num, \" is not a prime number\")\n",
    "        else:\n",
    "            print(num, \" is a prime number\")\n",
    "    else:\n",
    "        print(num, \" is a prime number\")\n",
    "        "
   ]
  }
 ],
 "metadata": {
  "kernelspec": {
   "display_name": "Python 3",
   "language": "python",
   "name": "python3"
  },
  "language_info": {
   "codemirror_mode": {
    "name": "ipython",
    "version": 3
   },
   "file_extension": ".py",
   "mimetype": "text/x-python",
   "name": "python",
   "nbconvert_exporter": "python",
   "pygments_lexer": "ipython3",
   "version": "3.8.5"
  }
 },
 "nbformat": 4,
 "nbformat_minor": 4
}
